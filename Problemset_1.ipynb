{
 "cells": [
  {
   "cell_type": "code",
   "execution_count": 9,
   "id": "b587f5a7",
   "metadata": {
    "scrolled": true,
    "tags": [
     "Question1"
    ]
   },
   "outputs": [
    {
     "name": "stdout",
     "output_type": "stream",
     "text": [
      "The type of variable A:  <class 'int'>\n",
      "The type of variable A:  <class 'float'>\n",
      "The type of variable A:  <class 'bool'>\n",
      "The type of variable A:  <class 'str'>\n",
      "The type of variable A:  <class 'int'>\n",
      "The type of variable A:  <class 'str'>\n",
      "The type of variable A:  <class 'str'>\n",
      "The type of variable A:  <class 'float'>\n",
      "The type of variable A:  <class 'int'>\n",
      "The type of variable A:  <class 'set'>\n",
      "The type of variable A:  <class 'bool'>\n",
      "The value of Pi =  3.141592653589793\n"
     ]
    }
   ],
   "source": [
    "#Q.1\n",
    "import math\n",
    "\n",
    "A = 5\n",
    "B = 5.0\n",
    "C = 5>1\n",
    "D ='5'\n",
    "E = 5*2\n",
    "F = '5'*2\n",
    "G = '5'+'2'\n",
    "H = 5/2\n",
    "I = 5%2\n",
    "J = {5,2,1}\n",
    "K = 5==3\n",
    "print(\"The type of variable A: \",type(A))\n",
    "print(\"The type of variable A: \",type(B))\n",
    "print(\"The type of variable A: \",type(C))\n",
    "print(\"The type of variable A: \",type(D))\n",
    "print(\"The type of variable A: \",type(E))\n",
    "print(\"The type of variable A: \",type(F))\n",
    "print(\"The type of variable A: \",type(G))\n",
    "print(\"The type of variable A: \",type(H))\n",
    "print(\"The type of variable A: \",type(I))\n",
    "print(\"The type of variable A: \",type(J))\n",
    "print(\"The type of variable A: \",type(K))\n",
    "print (\"The value of Pi = \",math.pi)"
   ]
  },
  {
   "cell_type": "code",
   "execution_count": 7,
   "id": "45fad046",
   "metadata": {
    "tags": [
     "Question2"
    ]
   },
   "outputs": [
    {
     "name": "stdout",
     "output_type": "stream",
     "text": [
      "______________________________\n",
      "Output 1\n",
      "The length of string is:  34\n",
      "______________________________\n",
      "Output 2\n",
      "Ice is present in string\n",
      "______________________________\n",
      "Output 3\n",
      "length of Supercalifragilisticexpialidocious & Bababadalgharaghtakamminarronnkonn is Maximum\n",
      "______________________________\n",
      "Output 4\n",
      "First composer: Bartok\n",
      "Last composer: Buxtehude\n"
     ]
    }
   ],
   "source": [
    "#Q.2\n",
    "print(30* '_')\n",
    "print('Output 1')\n",
    "A = 'Supercalifragilisticexpialidocious'\n",
    "print('The length of string is: ',len(A))\n",
    "\n",
    "print(30* '_')\n",
    "print('Output 2')\n",
    "Substring = 'ice'\n",
    "if Substring in A:\n",
    "    print('Ice is present in string')\n",
    "else:\n",
    "    print('Ice is not present in string')\n",
    "\n",
    "    \n",
    "print(30* '_')\n",
    "print('Output 3')\n",
    "B = 'Honorificabilitudinitatibus'\n",
    "C = 'Bababadalgharaghtakamminarronnkonn'\n",
    "if len(A)>len(B) and len(A)>len(C):\n",
    "    print('length of  ' + A +' is maximum')\n",
    "elif len(B)>len(C) and len(B)>len(A):\n",
    "    print('lenth of  ' + B +' is maximum')\n",
    "elif len(A) == len(B):\n",
    "    print('length of ' +A+ ' & ' +B+ ' is Maximum')\n",
    "elif len(B) == len(C):\n",
    "    print('length of ' +B+ ' & ' +C+ ' is Maximum')\n",
    "elif len(A) == len(C):\n",
    "    print('length of ' +A+ ' & ' +C+ ' is Maximum')\n",
    "else:\n",
    "    print('lenth of  ' + C +' is maximum')\n",
    "    \n",
    "print(30* '_')\n",
    "print('Output 4')\n",
    "composers = {\n",
    "    'Berlioz',\n",
    "    'Borodin',\n",
    "    'Brian',\n",
    "    'Bartok',\n",
    "    'Bellini',\n",
    "    'Buxtehude',\n",
    "    'Bernstein'\n",
    "}\n",
    "composer_sorted = sorted(composers)\n",
    "first_composer = composer_sorted[0]\n",
    "last_composer = composer_sorted[-1]\n",
    "\n",
    "print(\"First composer:\", first_composer)\n",
    "print(\"Last composer:\", last_composer)"
   ]
  },
  {
   "cell_type": "code",
   "execution_count": 4,
   "id": "a2cad832",
   "metadata": {
    "tags": [
     "Question3"
    ]
   },
   "outputs": [
    {
     "name": "stdout",
     "output_type": "stream",
     "text": [
      "Enter length 1 : 2\n",
      "Enter length 2 : 2\n",
      "Enter length 3 : 2\n",
      "Sides of triangle are: , 2.0, 2.0, 2.0\n",
      "Area:  1.7320508075688772\n"
     ]
    }
   ],
   "source": [
    "#Q.3\n",
    "import math\n",
    "a = float(input(\"Enter length 1 : \"))\n",
    "b = float(input(\"Enter length 2 : \"))\n",
    "c = float(input(\"Enter length 3 : \"))\n",
    "s = (a+b+c)/2\n",
    "area = math.sqrt(s * (s - a) * (s - b) * (s - c))\n",
    "print(\"Sides of triangle are: \",a,b,c, sep=', ')\n",
    "print('Area: ',area)"
   ]
  },
  {
   "cell_type": "code",
   "execution_count": 4,
   "id": "044212c7",
   "metadata": {
    "tags": [
     "Question4"
    ]
   },
   "outputs": [
    {
     "name": "stdout",
     "output_type": "stream",
     "text": [
      "Input the number of elements to be stored in the array :5\n",
      "Theie are  5  Elements in the Array are : \n",
      "Element - 025\n",
      "Element - 147\n",
      "Element - 242\n",
      "Element - 356\n",
      "Element - 432\n",
      "The Even elements are : ['42', '56', '32']\n",
      "The Odd Elements are : ['25', '47']\n"
     ]
    }
   ],
   "source": [
    "#Q.4\n",
    "n = input(\"Input the number of elements to be stored in the array :\")\n",
    "print('There are ',n,' elements in the Array')\n",
    "array=[]\n",
    "even=[]\n",
    "odd=[]\n",
    "\n",
    "for i in range(int(n)):\n",
    "   k = input(\"Element - \" +str(i))\n",
    "   array.append(k)\n",
    "    \n",
    "for i in range (0,len(array)):\n",
    "    if i// 2 :\n",
    "        even.append(array[i])\n",
    "    else:\n",
    "        odd.append(array[i])\n",
    "        \n",
    "\n",
    "print(\"The Even elements are : \" +str(even))\n",
    "print(\"The Odd Elements are : \" +str(odd))"
   ]
  },
  {
   "cell_type": "code",
   "execution_count": 20,
   "id": "345ee048",
   "metadata": {
    "tags": [
     "Question5"
    ]
   },
   "outputs": [
    {
     "name": "stdout",
     "output_type": "stream",
     "text": [
      "True\n",
      "False\n",
      "DOes point lies inside both rectangle?:  False\n"
     ]
    }
   ],
   "source": [
    "#Q.5\n",
    "def inside(x, y, x1, y1, x2, y2):\n",
    "    if x >= x1 and x <= x2 and y >= y1 and y <= y2:\n",
    "        return True\n",
    "    else:\n",
    "        return False\n",
    "print(inside(1, 1, 0, 0, 2, 3))    \n",
    "print(inside(-1, -1, 0, 0, 2, 3))\n",
    "\n",
    "Result = inside(1, 1, 0.3, 0.5, 1.1, 0.7) and inside(1, 1, 0.5, 0.2, 1.1, 2)\n",
    "print('DOes point lies inside both rectangle?: ',Result)"
   ]
  },
  {
   "cell_type": "code",
   "execution_count": 29,
   "id": "dcf7ca78",
   "metadata": {
    "tags": [
     "Question6"
    ]
   },
   "outputs": [
    {
     "name": "stdout",
     "output_type": "stream",
     "text": [
      "Enter a word: Sarthak\n",
      "PigWord=  arthaksay\n"
     ]
    }
   ],
   "source": [
    "#Q.6\n",
    "def pig(WORD):\n",
    "    X = ['a', 'e', 'i', 'o', 'u']\n",
    "    if WORD[0] in X:\n",
    "        PigWord = WORD + \"way\"\n",
    "    else:\n",
    "        PigWord = WORD[1:] + WORD[0] + \"ay\"\n",
    "    return PigWord.lower()\n",
    "\n",
    "WORD = input(\"Enter a word: \")\n",
    "WORD.upper()\n",
    "\n",
    "print('PigWord= ',pig(WORD))\n"
   ]
  },
  {
   "cell_type": "code",
   "execution_count": 1,
   "id": "8b0189a3",
   "metadata": {
    "tags": [
     "Question7"
    ]
   },
   "outputs": [
    {
     "name": "stdout",
     "output_type": "stream",
     "text": [
      "There are 15 patients of blood type A.\n",
      "There is one patient of blood type B.\n",
      "There are 13 patients of blood type AB.\n",
      "There are 15 patients of blood type O.\n",
      "There are no patients of blood type OO.\n"
     ]
    }
   ],
   "source": [
    "#Q.7\n",
    "def bldcount(filename):\n",
    "    blood_count = {'A': 0, 'B': 0, 'AB': 0, 'O': 0, 'OO': 0}\n",
    "\n",
    "    with open(filename, 'r') as file:\n",
    "        bloodtypes = file.read().split()\n",
    "\n",
    "    for bloodtype in bloodtypes:\n",
    "        if bloodtype in blood_count:\n",
    "            blood_count[bloodtype] += 1\n",
    "\n",
    "    for bloodtype, count in blood_count.items():\n",
    "        if count == 0:\n",
    "            print(f\"There are no patients of blood type {bloodtype}.\")\n",
    "        elif count == 1:\n",
    "            print(f\"There is one patient of blood type {bloodtype}.\")\n",
    "        else:\n",
    "            print(f\"There are {count} patients of blood type {bloodtype}.\")\n",
    "\n",
    "bldcount('Blood.txt')"
   ]
  },
  {
   "cell_type": "code",
   "execution_count": 3,
   "id": "6dd408f4",
   "metadata": {
    "tags": [
     "Question8"
    ]
   },
   "outputs": [
    {
     "name": "stdout",
     "output_type": "stream",
     "text": [
      "122.96544\n",
      "1.241401\n"
     ]
    }
   ],
   "source": [
    "#Q.8\n",
    "def curconv(currency, amount):\n",
    "    rates = {}\n",
    "\n",
    "    with open('currency.txt', 'r') as file:\n",
    "        for line in file:\n",
    "            code, rate, *name = line.strip().split()\n",
    "            rates[code] = float(rate)\n",
    "    usd_amount = amount * rates[currency]\n",
    "    \n",
    "    return usd_amount\n",
    "\n",
    "usd1 = curconv('EUR', 100)\n",
    "usd2 = curconv('JPY', 100)\n",
    "print(usd1)  \n",
    "print(usd2)"
   ]
  },
  {
   "cell_type": "code",
   "execution_count": 11,
   "id": "1d46b35e",
   "metadata": {
    "tags": [
     "Question9"
    ]
   },
   "outputs": [
    {
     "name": "stdout",
     "output_type": "stream",
     "text": [
      "The first sentence will cause Type-error.\n",
      "The second sentence will cause Index-error.\n",
      "The third sentence will cause Value-error.\n",
      "The fourth sentence will cause Name-error.\n",
      "The fifth sentence will cause IO-error.\n"
     ]
    }
   ],
   "source": [
    "#Q.9\n",
    "print('The first sentence will cause Type-error.')\n",
    "print('The second sentence will cause Index-error.')\n",
    "print('The third sentence will cause Value-error.')\n",
    "print('The fourth sentence will cause Name-error.')\n",
    "print('The fifth sentence will cause IO-error.')"
   ]
  },
  {
   "cell_type": "code",
   "execution_count": 14,
   "id": "4939dc06",
   "metadata": {
    "tags": [
     "Queestion10"
    ]
   },
   "outputs": [
    {
     "name": "stdout",
     "output_type": "stream",
     "text": [
      "[1, 1, 1, 3, 5, 1, 1, 2, 1, 0, 1, 0, 1, 2, 4, 0, 1, 2, 0, 3, 1, 0, 1, 1, 0, 0]\n",
      "[1, 0, 0, 0, 1, 0, 0, 0, 0, 0, 0, 1, 0, 0, 0, 2, 0, 0, 0, 0, 0, 0, 0, 0, 0, 0]\n"
     ]
    }
   ],
   "source": [
    "def frequencies(str):\n",
    "    letters = 'abcdefghijklmnopqrstuvwxyz'\n",
    "    frq = [0] * 26 \n",
    "    for i in range(len(letters)):\n",
    "        for ch in str:\n",
    "            if letters[i] == ch.lower():\n",
    "                frq[i] += 1\n",
    "    return frq\n",
    "\n",
    "print(frequencies(\"The quick red fox got bored and went home.\"))\n",
    "print(frequencies(\"apple\"))"
   ]
  }
 ],
 "metadata": {
  "celltoolbar": "Tags",
  "kernelspec": {
   "display_name": "Python 3 (ipykernel)",
   "language": "python",
   "name": "python3"
  },
  "language_info": {
   "codemirror_mode": {
    "name": "ipython",
    "version": 3
   },
   "file_extension": ".py",
   "mimetype": "text/x-python",
   "name": "python",
   "nbconvert_exporter": "python",
   "pygments_lexer": "ipython3",
   "version": "3.10.9"
  }
 },
 "nbformat": 4,
 "nbformat_minor": 5
}
